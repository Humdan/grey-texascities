{
 "cells": [
  {
   "cell_type": "code",
   "execution_count": 1,
   "metadata": {},
   "outputs": [],
   "source": [
    "import numpy as np\n",
    "import pandas as pd\n",
    "from decimal import *\n",
    "import re\n",
    "cityData = pd.read_csv('resources/texas-cities.csv', delimiter = ',')\n",
    "countyData = pd.read_csv('resources/cities-to-county.csv', delimiter = ',')\n",
    "\n",
    "# Strip 'name' col into two new cols 'name' & 'state'\n",
    "cityData[['name','state']] = cityData['name'].str.split(',',expand=True)\n",
    "\n",
    "# Split leftover 'name' and create city type col with last word from each row\n",
    "cityData[\"citytype\"] = cityData[\"name\"].str.split().str[-1]\n",
    "\n",
    "# Group Each city type in its own DF\n",
    "cityGroup = cityData[cityData.citytype =='city']\n",
    "townGroup = cityData[cityData.citytype =='town']\n",
    "villageGroup = cityData[cityData.citytype =='village']\n",
    "\n"
   ]
  },
  {
   "cell_type": "code",
   "execution_count": 2,
   "metadata": {},
   "outputs": [],
   "source": [
    "# NUMBER ONE - ***************************************************************\n",
    "# :What was the largest city, town, and village in each year?\n",
    "# -> [year, cityName, townName, villageName] x8\n",
    "# Sort by values in first year for each group \n",
    "p=1\n",
    "for year in cityGroup:\n",
    "#     print (p)\n",
    "    cityGroupMax = cityGroup.sort_values(by=['2010'], ascending=False).head(1)\n",
    "    townGroupMax = townGroup.sort_values(by=['2010'], ascending=False).head(1)\n",
    "    villageGroupMax = villageGroup.sort_values(by=['2010'], ascending=False).head(1)\n",
    "    p=p+1\n",
    "#     print(year, cityGroupMax.iloc[0, 0], townGroupMax.iloc[0,0], villageGroupMax.iloc[0,0]) # ANSWER\n",
    "\n",
    "    #     TODO: iterate the sort by year to the loop index and have it sort every loop by new col\n",
    "# Uncomment these to check Dataframes for sorted values of each group\n",
    "# print(cityGroupMax)\n",
    "# print(townGroupMax)\n",
    "# print(villageGroupMax)"
   ]
  },
  {
   "cell_type": "code",
   "execution_count": 3,
   "metadata": {},
   "outputs": [
    {
     "name": "stdout",
     "output_type": "stream",
     "text": [
      "#2) The Fastest growing cities in Texas were:\n",
      "494        Houston city\n",
      "968    San Antonio city\n",
      "51          Austin city\n",
      "Name: name, dtype: object\n"
     ]
    }
   ],
   "source": [
    "# NUMBER TWO - ***************************************************************\n",
    "# :Get the 3 fastest growing cities in texas bw 2012-2016\n",
    "\n",
    "# calculate difference between end year and start year save to new column\n",
    "cityData['citygrowth'] = cityGroup['2016']-cityGroup['2012']\n",
    "# sort max list descending order return top 3 rows\n",
    "growthSorted = cityData.sort_values(by=['citygrowth'], ascending=False).head(3)\n",
    "# Save names of cities to list\n",
    "fastestGrowingCities = growthSorted[['name']]\n",
    "\n",
    "print('#2) The Fastest growing cities in Texas were:')\n",
    "print(growthSorted['name'])  # ANSWER"
   ]
  },
  {
   "cell_type": "code",
   "execution_count": 4,
   "metadata": {},
   "outputs": [
    {
     "name": "stdout",
     "output_type": "stream",
     "text": [
      "#6)  1.82% of Texans lived in Towns in 2017\n"
     ]
    }
   ],
   "source": [
    "# NUMBER SIX - ***************************************************************\n",
    "# :What percentage of Texans lived in towns in 2017?\n",
    "# -> [townsPercent %]\n",
    "\n",
    "# Get totalPopulation\n",
    "pop17 = cityData['2017'].sum()\n",
    "# Get totalPopulationTowns\n",
    "popTown17 = townGroup['2017'].sum()\n",
    "# typecast to float and get Percentage\n",
    "townPercent = Decimal(popTown17) / Decimal(pop17) *100\n",
    "# Return Formatted Percentage of Town\n",
    "print ('#6)  '+'{0:.2f}'.format(townPercent) +'% of Texans lived in Towns in 2017') # ANSWER"
   ]
  },
  {
   "cell_type": "code",
   "execution_count": 5,
   "metadata": {},
   "outputs": [
    {
     "name": "stdout",
     "output_type": "stream",
     "text": [
      "#7) At 1.78 %, 2015 was the largest growth year in Texas\n"
     ]
    }
   ],
   "source": [
    "# NUMBER SEVEN - ***************************************************************\n",
    "# :Which year did Texas grow the most?\n",
    "# -> [year]\n",
    "\n",
    "\n",
    "# Sum all rows to bottom of dataframe\n",
    "cityData.loc['totals'] = cityData.sum()\n",
    "\n",
    "# Calc percent change between total row and the highest number in dataframe row as a percentage\n",
    "maxGrowth = cityData.loc['totals', '2010':'2017'].pct_change().max()*100\n",
    "\n",
    "largestGrowthYear = cityData.loc['totals', '2010':'2017'].pct_change().idxmax()\n",
    "\n",
    "# Print Percentage value and Year\n",
    "print ('#7) At'+' {0:.2f}'.format(maxGrowth)+' %,' + ' '+ largestGrowthYear + ' was the largest growth year in Texas') # ANSWER\n",
    "\n"
   ]
  },
  {
   "cell_type": "code",
   "execution_count": null,
   "metadata": {},
   "outputs": [],
   "source": []
  },
  {
   "cell_type": "code",
   "execution_count": null,
   "metadata": {},
   "outputs": [],
   "source": []
  },
  {
   "cell_type": "code",
   "execution_count": 6,
   "metadata": {},
   "outputs": [],
   "source": [
    "# NUMBER THREE - ***************************************************************\n",
    "# :Which county had the most population in each year?\n",
    "# -> [year, countyName] x8\n",
    "\n",
    "# Sort countyData by 'CITY' and remove duplicates\n",
    "countyData = countyData.sort_values(by=['CITY']).drop_duplicates(['CITY'])\n",
    "# Cleanup County Data\n",
    "countyData.COUNTY = countyData.COUNTY.str.replace('^ +', '')\n",
    "countyData.CITY = countyData.CITY.str.replace('^ +', '')\n",
    "\n",
    "# Get fresh copy of original City CSV file\n",
    "cityData2 = pd.read_csv('resources/texas-cities.csv', delimiter = ',')\n",
    "# Strip 'name' col into two new cols 'name' & 'state'\n",
    "cityData2[['name','state']] = cityData2['name'].str.split(',',expand=True)\n",
    "#Get first word as the city name\n",
    "cityData2['CITY'] = cityData2[\"name\"].str.split().str[0] \n",
    "        # TODO:  I think this leaves out all the cities with multiple words in the name\n",
    "cityData2['CITY'] = map(lambda x: x.upper(), cityData2['CITY'])\n",
    "cityFrame = cityData2[['CITY', '2010','2011', '2012','2013','2014','2015','2016','2017']].copy()\n",
    "\n",
    "# Combine both dataframes by City Column\n",
    "frame = countyData.merge(cityFrame, on='CITY', how='outer')\n",
    "# Group by 'COUNTY'\n",
    "countyPop = frame.groupby('COUNTY').sum()\n",
    "\n",
    "\n",
    "# Get the maximum (returns a countyname and year) ORIGINAL\n",
    "# x = frame.sort_values(by=['2010'], ascending=False).head(1)"
   ]
  },
  {
   "cell_type": "code",
   "execution_count": null,
   "metadata": {
    "scrolled": true
   },
   "outputs": [],
   "source": []
  },
  {
   "cell_type": "code",
   "execution_count": null,
   "metadata": {},
   "outputs": [],
   "source": []
  },
  {
   "cell_type": "code",
   "execution_count": null,
   "metadata": {},
   "outputs": [],
   "source": []
  },
  {
   "cell_type": "code",
   "execution_count": 13,
   "metadata": {},
   "outputs": [
    {
     "name": "stdout",
     "output_type": "stream",
     "text": [
      "\n",
      "\n",
      "('2010', '      COUNTY\\n576  HARRIS ')\n",
      "('2011', '      COUNTY\\n576  HARRIS ')\n",
      "('2012', '      COUNTY\\n576  HARRIS ')\n",
      "('2013', '      COUNTY\\n576  HARRIS ')\n",
      "('2014', '      COUNTY\\n576  HARRIS ')\n",
      "('2015', '      COUNTY\\n576  HARRIS ')\n",
      "('2016', '      COUNTY\\n576  HARRIS ')\n",
      "('2017', '      COUNTY\\n576  HARRIS ')\n"
     ]
    }
   ],
   "source": [
    "countyList = []\n",
    "for col in (frame.columns):\n",
    "        # Skip columns that are not a year to do the math\n",
    "    if col != 'COUNTY' and col != 'CITY':\n",
    "        # Sort current column by highest to lowest and read only one row\n",
    "        x = frame.sort_values(by=[col], ascending=False).head(1)\n",
    "#         print(col)\n",
    "#         print str(x[['COUNTY']])\n",
    "        \n",
    "        print(col, str(x[['COUNTY']]))\n",
    "        countyList.append(x.iloc[0])\n",
    " \n",
    "    if col == 'COUNTY' or col == 'CITY':\n",
    "        print(\"\")\n",
    "\n",
    "    \n",
    "    \n",
    " \n",
    "\n",
    "\n",
    "\n",
    "\n"
   ]
  },
  {
   "cell_type": "code",
   "execution_count": null,
   "metadata": {},
   "outputs": [],
   "source": []
  },
  {
   "cell_type": "code",
   "execution_count": null,
   "metadata": {},
   "outputs": [],
   "source": []
  },
  {
   "cell_type": "code",
   "execution_count": null,
   "metadata": {},
   "outputs": [],
   "source": []
  },
  {
   "cell_type": "code",
   "execution_count": null,
   "metadata": {},
   "outputs": [],
   "source": []
  },
  {
   "cell_type": "code",
   "execution_count": null,
   "metadata": {},
   "outputs": [],
   "source": []
  },
  {
   "cell_type": "code",
   "execution_count": null,
   "metadata": {},
   "outputs": [],
   "source": []
  }
 ],
 "metadata": {
  "kernelspec": {
   "display_name": "Python 3",
   "language": "python",
   "name": "python3"
  },
  "language_info": {
   "codemirror_mode": {
    "name": "ipython",
    "version": 2
   },
   "file_extension": ".py",
   "mimetype": "text/x-python",
   "name": "python",
   "nbconvert_exporter": "python",
   "pygments_lexer": "ipython2",
   "version": "2.7.15"
  }
 },
 "nbformat": 4,
 "nbformat_minor": 2
}
